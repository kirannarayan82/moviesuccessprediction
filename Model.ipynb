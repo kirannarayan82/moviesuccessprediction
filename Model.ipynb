import pandas as pd
from sklearn.model_selection import train_test_split
from sklearn.ensemble import RandomForestClassifier
from sklearn.metrics import accuracy_score
from transformers import RagTokenizer, RagRetriever, RagSequenceForGeneration
import streamlit as st
import random

# Load the dataset
url = 'https://raw.githubusercontent.com/devensinghbhagtani/Bollywood-Movie-Dataset/main/IMDB-Movie-Dataset%20(2023-1951).csv'
df = pd.read_csv(url)

# Preprocess the data
df = df[['Name', 'Year', 'Genre', 'Overview', 'Director', 'Cast', 'IMDB Rating']]
df = df.dropna()

# Convert categorical data to numerical
df['Genre'] = df['Genre'].astype('category').cat.codes
df['Director'] = df['Director'].astype('category').cat.codes
df['Cast'] = df['Cast'].astype('category').cat.codes

# Define the target variable
df['Hit'] = df['IMDB Rating'].apply(lambda x: 1 if x >= 7 else 0)
df = df.drop(columns=['IMDB Rating'])

# Split the data into training and testing sets
X = df.drop(columns=['Hit'])
y = df['Hit']

X_train, X_test, y_train, y_test = train_test_split(X, y, test_size=0.2, random_state=42)

# Train a Random Forest model
model = RandomForestClassifier(n_estimators=100, random_state=42)
model.fit(X_train, y_train)

# Load the tokenizer, retriever, and model for RAG
tokenizer = RagTokenizer.from_pretrained("facebook/rag-token-nq")
retriever = RagRetriever.from_pretrained("facebook/rag-token-nq", index_name="custom")
model_rag = RagSequenceForGeneration.from_pretrained("facebook/rag-token-nq")

# Function to retrieve relevant information using RAG
def retrieve_info(query):
    inputs = tokenizer(query, return_tensors="pt")
    retrieved_docs = retriever(inputs.input_ids, return_tensors="pt")
    outputs = model_rag.generate(input_ids=inputs.input_ids, context_input_ids=retrieved_docs.context_input_ids)
    response = tokenizer.batch_decode(outputs, skip_special_tokens=True)[0]
    return response

# Function to generate random data
def get_box_office_data(movie_name):
    return f"Estimated box office earnings: ${random.randint(10, 300)} million."

def get_critic_reviews(movie_name):
    return f"Critic reviews: {random.choice(['Positive', 'Mixed', 'Negative'])}."

def get_audience_reviews(movie_name):
    return f"Audience reviews: {random.choice(['Positive', 'Mixed', 'Negative'])}."

def get_social_media_trends(movie_name):
    return f"Social media mentions: {random.randint(1000, 100000)}."

def get_search_trends(movie_name):
    return f"Google search trends: {random.randint(1000, 100000)} searches."

def get_advanced_booking_data(movie_name):
    return f"Advanced bookings: {random.randint(10000, 500000)} tickets."
